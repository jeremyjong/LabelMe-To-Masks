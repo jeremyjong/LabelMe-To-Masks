{
 "cells": [
  {
   "cell_type": "code",
   "execution_count": null,
   "metadata": {},
   "outputs": [],
   "source": [
    "import json\n",
    "import os\n",
    "from PIL import Image, ImageDraw\n",
    "\n",
    "# Input and output directories\n",
    "json_folder = 'path_to_labelme_json_folder'\n",
    "output_folder = 'output_mask_folder'\n",
    "\n",
    "# Function to create masks from JSON annotations\n",
    "def create_masks_from_json(json_file):\n",
    "    with open(json_file, 'r') as f:\n",
    "        data = json.load(f)\n",
    "\n",
    "    img_path = os.path.join(os.path.dirname(json_file), data['imagePath'])\n",
    "    image = Image.open(img_path)\n",
    "    mask = Image.new('L', image.size, 0)\n",
    "    draw = ImageDraw.Draw(mask)\n",
    "\n",
    "    for shape in data['shapes']:\n",
    "        label = shape['label']\n",
    "        points = shape['points']\n",
    "        draw.polygon(points, fill=255)\n",
    "\n",
    "    return mask\n",
    "\n",
    "# Create output folder if it doesn't exist\n",
    "os.makedirs(output_folder, exist_ok=True)\n",
    "\n",
    "# Process JSON files and save masks\n",
    "json_files = [f for f in os.listdir(json_folder) if f.endswith('.json')]\n",
    "\n",
    "for json_file in json_files:\n",
    "    mask = create_masks_from_json(os.path.join(json_folder, json_file))\n",
    "    mask.save(os.path.join(output_folder, os.path.splitext(json_file)[0] + '_mask.png'))\n",
    "\n",
    "print('Masks created and saved to', output_folder)\n"
   ]
  }
 ],
 "metadata": {
  "language_info": {
   "name": "python"
  }
 },
 "nbformat": 4,
 "nbformat_minor": 2
}
